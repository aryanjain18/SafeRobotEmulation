{
 "cells": [
  {
   "cell_type": "code",
   "execution_count": 1,
   "id": "e1d224fd",
   "metadata": {},
   "outputs": [
    {
     "name": "stderr",
     "output_type": "stream",
     "text": [
      "WARNING: Carrier board is not from a Jetson Developer Kit.\n",
      "WARNNIG: Jetson.GPIO library has not been verified with this carrier board,\n",
      "WARNING: and in fact is unlikely to work correctly.\n"
     ]
    }
   ],
   "source": [
    "from jetracer.nvidia_racecar import NvidiaRacecar\n",
    "import socket\n",
    "import time\n",
    "\n",
    "car = NvidiaRacecar()\n",
    "\n"
   ]
  },
  {
   "cell_type": "code",
   "execution_count": 2,
   "id": "80eebe74",
   "metadata": {},
   "outputs": [
    {
     "name": "stdout",
     "output_type": "stream",
     "text": [
      "hey\n"
     ]
    }
   ],
   "source": [
    "print(\"hey\")"
   ]
  },
  {
   "cell_type": "code",
   "execution_count": null,
   "id": "576068cf",
   "metadata": {},
   "outputs": [
    {
     "name": "stdout",
     "output_type": "stream",
     "text": [
      "here\n",
      "JetRacer server is listening...\n",
      "Connected\n",
      "Received command\n",
      "Connected\n",
      "Received command\n",
      "Connected\n",
      "Received command\n",
      "Connected\n",
      "Received command\n",
      "Connected\n",
      "Received command\n",
      "Connected\n",
      "Received command\n",
      "Connected\n",
      "Received command\n",
      "Connected\n",
      "Received command\n",
      "Connected\n",
      "Received command\n",
      "Connected\n",
      "Received command\n",
      "Connected\n",
      "Received command\n",
      "Connected\n",
      "Received command\n",
      "Connected\n",
      "Received command\n",
      "Connected\n",
      "Received command\n",
      "Connected\n",
      "Received command\n",
      "Connected\n",
      "Received command\n",
      "Connected\n",
      "Received command\n",
      "Connected\n",
      "Received command\n",
      "Connected\n",
      "Received command\n",
      "Connected\n",
      "Received command\n",
      "Connected\n",
      "Received command\n",
      "Connected\n",
      "Received command\n",
      "Connected\n",
      "Received command\n",
      "Connected\n",
      "Received command\n",
      "Connected\n",
      "Received command\n",
      "Connected\n",
      "Received command\n",
      "Connected\n",
      "Received command\n",
      "Connected\n",
      "Received command\n",
      "Connected\n",
      "Received command\n",
      "Connected\n",
      "Received command\n",
      "Connected\n",
      "Received command\n",
      "Connected\n",
      "Received command\n",
      "Connected\n",
      "Received command\n",
      "Connected\n",
      "Received command\n",
      "Connected\n",
      "Received command\n",
      "Connected\n",
      "Received command\n",
      "Connected\n",
      "Received command\n",
      "Connected\n",
      "Received command\n",
      "Connected\n",
      "Received command\n",
      "Connected\n",
      "Received command\n",
      "Connected\n",
      "Received command\n",
      "Connected\n",
      "Received command\n",
      "Connected\n",
      "Received command\n",
      "Connected\n",
      "Received command\n",
      "Connected\n",
      "Received command\n"
     ]
    }
   ],
   "source": [
    "# Define the IP address and port to listen on\n",
    "SERVER_IP = '0.0.0.0'  # Listen on all available interfaces\n",
    "SERVER_PORT = 3078   # Same port as the client\n",
    "\n",
    "def handle_command(command):\n",
    "    if command == 'forward':\n",
    "        car.throttle = 1\n",
    "    elif command == 'backward':\n",
    "        car.throttle = -1\n",
    "    elif command == 'left':\n",
    "        car.steering = -1\n",
    "    elif command == 'right':\n",
    "        car.steering = 1\n",
    "    else:\n",
    "        car.throttle = 0\n",
    "        car.steering = 0\n",
    "\n",
    "print(\"here\")\n",
    "with socket.socket(socket.AF_INET, socket.SOCK_STREAM) as s:\n",
    "    s.bind((SERVER_IP, SERVER_PORT))\n",
    "    s.listen()\n",
    "    print(\"JetRacer server is listening...\")\n",
    "    while True:\n",
    "        conn, addr = s.accept()\n",
    "        with conn:\n",
    "            print(\"Connected\")\n",
    "            data = conn.recv(1024)\n",
    "            if not data:\n",
    "                break\n",
    "            command = data.decode()\n",
    "            print(\"Received command\")\n",
    "            handle_command(command)\n",
    "            # Small delay to avoid overwhelming the car's controls\n",
    "            time.sleep(3)\n",
    "            # Stop the car after the command is executed\n",
    "            car.throttle = 0\n",
    "            car.steering = 0\n"
   ]
  },
  {
   "cell_type": "code",
   "execution_count": null,
   "id": "a502da09",
   "metadata": {},
   "outputs": [],
   "source": []
  },
  {
   "cell_type": "code",
   "execution_count": null,
   "id": "04b51843",
   "metadata": {},
   "outputs": [],
   "source": []
  }
 ],
 "metadata": {
  "kernelspec": {
   "display_name": "Python 3",
   "language": "python",
   "name": "python3"
  },
  "language_info": {
   "codemirror_mode": {
    "name": "ipython",
    "version": 3
   },
   "file_extension": ".py",
   "mimetype": "text/x-python",
   "name": "python",
   "nbconvert_exporter": "python",
   "pygments_lexer": "ipython3",
   "version": "3.6.9"
  }
 },
 "nbformat": 4,
 "nbformat_minor": 5
}
